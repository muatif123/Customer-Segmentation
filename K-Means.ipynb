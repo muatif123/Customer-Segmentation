{
 "cells": [
  {
   "cell_type": "code",
   "execution_count": 1,
   "metadata": {},
   "outputs": [],
   "source": [
    "import numpy as np\n",
    "import pandas as pd\n",
    "import matplotlib.pyplot as plt"
   ]
  },
  {
   "cell_type": "code",
   "execution_count": 2,
   "metadata": {},
   "outputs": [],
   "source": [
    "## Read the dataset\n",
    "\n",
    "dataset = pd.read_csv('Customers.csv')"
   ]
  },
  {
   "cell_type": "code",
   "execution_count": 3,
   "metadata": {},
   "outputs": [
    {
     "data": {
      "text/html": [
       "<div>\n",
       "<style scoped>\n",
       "    .dataframe tbody tr th:only-of-type {\n",
       "        vertical-align: middle;\n",
       "    }\n",
       "\n",
       "    .dataframe tbody tr th {\n",
       "        vertical-align: top;\n",
       "    }\n",
       "\n",
       "    .dataframe thead th {\n",
       "        text-align: right;\n",
       "    }\n",
       "</style>\n",
       "<table border=\"1\" class=\"dataframe\">\n",
       "  <thead>\n",
       "    <tr style=\"text-align: right;\">\n",
       "      <th></th>\n",
       "      <th>CustomerID</th>\n",
       "      <th>Genre</th>\n",
       "      <th>Age</th>\n",
       "      <th>Annual Income (k$)</th>\n",
       "      <th>Spending Score (1-100)</th>\n",
       "    </tr>\n",
       "  </thead>\n",
       "  <tbody>\n",
       "    <tr>\n",
       "      <th>0</th>\n",
       "      <td>1</td>\n",
       "      <td>Male</td>\n",
       "      <td>19</td>\n",
       "      <td>15</td>\n",
       "      <td>39</td>\n",
       "    </tr>\n",
       "    <tr>\n",
       "      <th>1</th>\n",
       "      <td>2</td>\n",
       "      <td>Male</td>\n",
       "      <td>21</td>\n",
       "      <td>15</td>\n",
       "      <td>81</td>\n",
       "    </tr>\n",
       "    <tr>\n",
       "      <th>2</th>\n",
       "      <td>3</td>\n",
       "      <td>Female</td>\n",
       "      <td>20</td>\n",
       "      <td>16</td>\n",
       "      <td>6</td>\n",
       "    </tr>\n",
       "    <tr>\n",
       "      <th>3</th>\n",
       "      <td>4</td>\n",
       "      <td>Female</td>\n",
       "      <td>23</td>\n",
       "      <td>16</td>\n",
       "      <td>77</td>\n",
       "    </tr>\n",
       "    <tr>\n",
       "      <th>4</th>\n",
       "      <td>5</td>\n",
       "      <td>Female</td>\n",
       "      <td>31</td>\n",
       "      <td>17</td>\n",
       "      <td>40</td>\n",
       "    </tr>\n",
       "  </tbody>\n",
       "</table>\n",
       "</div>"
      ],
      "text/plain": [
       "   CustomerID   Genre  Age  Annual Income (k$)  Spending Score (1-100)\n",
       "0           1    Male   19                  15                      39\n",
       "1           2    Male   21                  15                      81\n",
       "2           3  Female   20                  16                       6\n",
       "3           4  Female   23                  16                      77\n",
       "4           5  Female   31                  17                      40"
      ]
     },
     "execution_count": 3,
     "metadata": {},
     "output_type": "execute_result"
    }
   ],
   "source": [
    "dataset.head()"
   ]
  },
  {
   "cell_type": "code",
   "execution_count": 4,
   "metadata": {},
   "outputs": [
    {
     "data": {
      "text/plain": [
       "<matplotlib.collections.PathCollection at 0x1fe4d8d5640>"
      ]
     },
     "execution_count": 4,
     "metadata": {},
     "output_type": "execute_result"
    },
    {
     "data": {
      "image/png": "[encoded data removed]",
      "text/plain": [
       "<Figure size 432x288 with 1 Axes>"
      ]
     },
     "metadata": {
      "needs_background": "light"
     },
     "output_type": "display_data"
    }
   ],
   "source": [
    "## scatter plot\n",
    "\n",
    "plt.scatter(dataset['Annual Income (k$)'],dataset['Spending Score (1-100)'])"
   ]
  },
  {
   "cell_type": "code",
   "execution_count": 5,
   "metadata": {},
   "outputs": [],
   "source": [
    "## Scaling \n",
    "\n",
    "from sklearn.preprocessing import MinMaxScaler\n",
    "\n",
    "scaler = MinMaxScaler()\n",
    "scaler.fit(dataset[['Annual Income (k$)']])\n",
    "dataset['Annual Income (k$)'] = scaler.transform(dataset[['Annual Income (k$)']])"
   ]
  },
  {
   "cell_type": "code",
   "execution_count": 6,
   "metadata": {},
   "outputs": [],
   "source": [
    "scaler.fit(dataset[['Spending Score (1-100)']])\n",
    "dataset['Spending Score (1-100)'] = scaler.transform(dataset[['Spending Score (1-100)']])"
   ]
  },
  {
   "cell_type": "code",
   "execution_count": 7,
   "metadata": {},
   "outputs": [
    {
     "data": {
      "text/html": [
       "<div>\n",
       "<style scoped>\n",
       "    .dataframe tbody tr th:only-of-type {\n",
       "        vertical-align: middle;\n",
       "    }\n",
       "\n",
       "    .dataframe tbody tr th {\n",
       "        vertical-align: top;\n",
       "    }\n",
       "\n",
       "    .dataframe thead th {\n",
       "        text-align: right;\n",
       "    }\n",
       "</style>\n",
       "<table border=\"1\" class=\"dataframe\">\n",
       "  <thead>\n",
       "    <tr style=\"text-align: right;\">\n",
       "      <th></th>\n",
       "      <th>CustomerID</th>\n",
       "      <th>Genre</th>\n",
       "      <th>Age</th>\n",
       "      <th>Annual Income (k$)</th>\n",
       "      <th>Spending Score (1-100)</th>\n",
       "    </tr>\n",
       "  </thead>\n",
       "  <tbody>\n",
       "    <tr>\n",
       "      <th>0</th>\n",
       "      <td>1</td>\n",
       "      <td>Male</td>\n",
       "      <td>19</td>\n",
       "      <td>0.000000</td>\n",
       "      <td>0.387755</td>\n",
       "    </tr>\n",
       "    <tr>\n",
       "      <th>1</th>\n",
       "      <td>2</td>\n",
       "      <td>Male</td>\n",
       "      <td>21</td>\n",
       "      <td>0.000000</td>\n",
       "      <td>0.816327</td>\n",
       "    </tr>\n",
       "    <tr>\n",
       "      <th>2</th>\n",
       "      <td>3</td>\n",
       "      <td>Female</td>\n",
       "      <td>20</td>\n",
       "      <td>0.008197</td>\n",
       "      <td>0.051020</td>\n",
       "    </tr>\n",
       "    <tr>\n",
       "      <th>3</th>\n",
       "      <td>4</td>\n",
       "      <td>Female</td>\n",
       "      <td>23</td>\n",
       "      <td>0.008197</td>\n",
       "      <td>0.775510</td>\n",
       "    </tr>\n",
       "    <tr>\n",
       "      <th>4</th>\n",
       "      <td>5</td>\n",
       "      <td>Female</td>\n",
       "      <td>31</td>\n",
       "      <td>0.016393</td>\n",
       "      <td>0.397959</td>\n",
       "    </tr>\n",
       "  </tbody>\n",
       "</table>\n",
       "</div>"
      ],
      "text/plain": [
       "   CustomerID   Genre  Age  Annual Income (k$)  Spending Score (1-100)\n",
       "0           1    Male   19            0.000000                0.387755\n",
       "1           2    Male   21            0.000000                0.816327\n",
       "2           3  Female   20            0.008197                0.051020\n",
       "3           4  Female   23            0.008197                0.775510\n",
       "4           5  Female   31            0.016393                0.397959"
      ]
     },
     "execution_count": 7,
     "metadata": {},
     "output_type": "execute_result"
    }
   ],
   "source": [
    "dataset.head()"
   ]
  },
  {
   "cell_type": "code",
   "execution_count": 8,
   "metadata": {},
   "outputs": [],
   "source": [
    "## uisng 3rd and 4th feature only and converting them into numpy array\n",
    "\n",
    "X = dataset.iloc[:,[3,4]].values"
   ]
  },
  {
   "cell_type": "code",
   "execution_count": 10,
   "metadata": {},
   "outputs": [
    {
     "data": {
      "text/plain": [
       "array([[0.        , 0.3877551 ],\n",
       "       [0.        , 0.81632653],\n",
       "       [0.00819672, 0.05102041],\n",
       "       [0.00819672, 0.7755102 ],\n",
       "       [0.01639344, 0.39795918],\n",
       "       [0.01639344, 0.76530612],\n",
       "       [0.02459016, 0.05102041],\n",
       "       [0.02459016, 0.94897959],\n",
       "       [0.03278689, 0.02040816],\n",
       "       [0.03278689, 0.7244898 ],\n",
       "       [0.03278689, 0.13265306],\n",
       "       [0.03278689, 1.        ],\n",
       "       [0.04098361, 0.14285714],\n",
       "       [0.04098361, 0.7755102 ],\n",
       "       [0.04098361, 0.12244898],\n",
       "       [0.04098361, 0.79591837],\n",
       "       [0.04918033, 0.34693878],\n",
       "       [0.04918033, 0.66326531],\n",
       "       [0.06557377, 0.28571429],\n",
       "       [0.06557377, 0.98979592],\n",
       "       [0.07377049, 0.34693878],\n",
       "       [0.07377049, 0.73469388],\n",
       "       [0.08196721, 0.04081633],\n",
       "       [0.08196721, 0.73469388],\n",
       "       [0.10655738, 0.13265306],\n",
       "       [0.10655738, 0.82653061],\n",
       "       [0.10655738, 0.31632653],\n",
       "       [0.10655738, 0.6122449 ],\n",
       "       [0.1147541 , 0.30612245],\n",
       "       [0.1147541 , 0.87755102],\n",
       "       [0.12295082, 0.03061224],\n",
       "       [0.12295082, 0.73469388],\n",
       "       [0.14754098, 0.03061224],\n",
       "       [0.14754098, 0.92857143],\n",
       "       [0.14754098, 0.13265306],\n",
       "       [0.14754098, 0.81632653],\n",
       "       [0.1557377 , 0.16326531],\n",
       "       [0.1557377 , 0.73469388],\n",
       "       [0.18032787, 0.25510204],\n",
       "       [0.18032787, 0.75510204],\n",
       "       [0.18852459, 0.34693878],\n",
       "       [0.18852459, 0.92857143],\n",
       "       [0.19672131, 0.35714286],\n",
       "       [0.19672131, 0.6122449 ],\n",
       "       [0.19672131, 0.2755102 ],\n",
       "       [0.19672131, 0.65306122],\n",
       "       [0.20491803, 0.55102041],\n",
       "       [0.20491803, 0.46938776],\n",
       "       [0.20491803, 0.41836735],\n",
       "       [0.20491803, 0.41836735],\n",
       "       [0.22131148, 0.52040816],\n",
       "       [0.22131148, 0.60204082],\n",
       "       [0.2295082 , 0.54081633],\n",
       "       [0.2295082 , 0.60204082],\n",
       "       [0.2295082 , 0.44897959],\n",
       "       [0.2295082 , 0.40816327],\n",
       "       [0.23770492, 0.5       ],\n",
       "       [0.23770492, 0.45918367],\n",
       "       [0.25409836, 0.51020408],\n",
       "       [0.25409836, 0.45918367],\n",
       "       [0.25409836, 0.56122449],\n",
       "       [0.25409836, 0.55102041],\n",
       "       [0.26229508, 0.52040816],\n",
       "       [0.26229508, 0.59183673],\n",
       "       [0.2704918 , 0.51020408],\n",
       "       [0.2704918 , 0.59183673],\n",
       "       [0.2704918 , 0.5       ],\n",
       "       [0.2704918 , 0.47959184],\n",
       "       [0.2704918 , 0.59183673],\n",
       "       [0.2704918 , 0.46938776],\n",
       "       [0.27868852, 0.55102041],\n",
       "       [0.27868852, 0.41836735],\n",
       "       [0.28688525, 0.48979592],\n",
       "       [0.28688525, 0.56122449],\n",
       "       [0.31967213, 0.46938776],\n",
       "       [0.31967213, 0.54081633],\n",
       "       [0.31967213, 0.53061224],\n",
       "       [0.31967213, 0.47959184],\n",
       "       [0.31967213, 0.52040816],\n",
       "       [0.31967213, 0.41836735],\n",
       "       [0.31967213, 0.51020408],\n",
       "       [0.31967213, 0.55102041],\n",
       "       [0.31967213, 0.40816327],\n",
       "       [0.31967213, 0.43877551],\n",
       "       [0.31967213, 0.57142857],\n",
       "       [0.31967213, 0.45918367],\n",
       "       [0.3442623 , 0.58163265],\n",
       "       [0.3442623 , 0.55102041],\n",
       "       [0.35245902, 0.60204082],\n",
       "       [0.35245902, 0.45918367],\n",
       "       [0.36065574, 0.55102041],\n",
       "       [0.36065574, 0.40816327],\n",
       "       [0.36885246, 0.48979592],\n",
       "       [0.36885246, 0.39795918],\n",
       "       [0.36885246, 0.41836735],\n",
       "       [0.36885246, 0.52040816],\n",
       "       [0.36885246, 0.46938776],\n",
       "       [0.36885246, 0.5       ],\n",
       "       [0.37704918, 0.41836735],\n",
       "       [0.37704918, 0.48979592],\n",
       "       [0.3852459 , 0.40816327],\n",
       "       [0.3852459 , 0.47959184],\n",
       "       [0.3852459 , 0.59183673],\n",
       "       [0.3852459 , 0.55102041],\n",
       "       [0.3852459 , 0.56122449],\n",
       "       [0.3852459 , 0.41836735],\n",
       "       [0.39344262, 0.5       ],\n",
       "       [0.39344262, 0.45918367],\n",
       "       [0.39344262, 0.42857143],\n",
       "       [0.39344262, 0.47959184],\n",
       "       [0.39344262, 0.52040816],\n",
       "       [0.39344262, 0.54081633],\n",
       "       [0.40163934, 0.41836735],\n",
       "       [0.40163934, 0.45918367],\n",
       "       [0.40983607, 0.47959184],\n",
       "       [0.40983607, 0.5       ],\n",
       "       [0.40983607, 0.42857143],\n",
       "       [0.40983607, 0.59183673],\n",
       "       [0.42622951, 0.42857143],\n",
       "       [0.42622951, 0.57142857],\n",
       "       [0.42622951, 0.56122449],\n",
       "       [0.42622951, 0.39795918],\n",
       "       [0.44262295, 0.58163265],\n",
       "       [0.44262295, 0.91836735],\n",
       "       [0.45081967, 0.28571429],\n",
       "       [0.45081967, 0.7755102 ],\n",
       "       [0.45901639, 0.34693878],\n",
       "       [0.45901639, 0.95918367],\n",
       "       [0.45901639, 0.10204082],\n",
       "       [0.45901639, 0.75510204],\n",
       "       [0.45901639, 0.08163265],\n",
       "       [0.45901639, 0.75510204],\n",
       "       [0.46721311, 0.33673469],\n",
       "       [0.46721311, 0.71428571],\n",
       "       [0.47540984, 0.04081633],\n",
       "       [0.47540984, 0.8877551 ],\n",
       "       [0.47540984, 0.06122449],\n",
       "       [0.47540984, 0.73469388],\n",
       "       [0.48360656, 0.09183673],\n",
       "       [0.48360656, 0.7244898 ],\n",
       "       [0.49180328, 0.04081633],\n",
       "       [0.49180328, 0.93877551],\n",
       "       [0.5       , 0.39795918],\n",
       "       [0.5       , 0.87755102],\n",
       "       [0.50819672, 0.1122449 ],\n",
       "       [0.50819672, 0.97959184],\n",
       "       [0.50819672, 0.35714286],\n",
       "       [0.50819672, 0.74489796],\n",
       "       [0.51639344, 0.21428571],\n",
       "       [0.51639344, 0.90816327],\n",
       "       [0.51639344, 0.16326531],\n",
       "       [0.51639344, 0.8877551 ],\n",
       "       [0.51639344, 0.19387755],\n",
       "       [0.51639344, 0.76530612],\n",
       "       [0.51639344, 0.15306122],\n",
       "       [0.51639344, 0.89795918],\n",
       "       [0.51639344, 0.        ],\n",
       "       [0.51639344, 0.78571429],\n",
       "       [0.51639344, 0.        ],\n",
       "       [0.51639344, 0.73469388],\n",
       "       [0.52459016, 0.34693878],\n",
       "       [0.52459016, 0.83673469],\n",
       "       [0.54098361, 0.04081633],\n",
       "       [0.54098361, 0.93877551],\n",
       "       [0.57377049, 0.25510204],\n",
       "       [0.57377049, 0.75510204],\n",
       "       [0.58196721, 0.19387755],\n",
       "       [0.58196721, 0.95918367],\n",
       "       [0.59016393, 0.26530612],\n",
       "       [0.59016393, 0.63265306],\n",
       "       [0.59016393, 0.12244898],\n",
       "       [0.59016393, 0.75510204],\n",
       "       [0.59016393, 0.09183673],\n",
       "       [0.59016393, 0.92857143],\n",
       "       [0.59836066, 0.12244898],\n",
       "       [0.59836066, 0.86734694],\n",
       "       [0.59836066, 0.14285714],\n",
       "       [0.59836066, 0.69387755],\n",
       "       [0.63934426, 0.13265306],\n",
       "       [0.63934426, 0.90816327],\n",
       "       [0.67213115, 0.31632653],\n",
       "       [0.67213115, 0.86734694],\n",
       "       [0.68032787, 0.14285714],\n",
       "       [0.68032787, 0.8877551 ],\n",
       "       [0.68852459, 0.3877551 ],\n",
       "       [0.68852459, 0.97959184],\n",
       "       [0.70491803, 0.23469388],\n",
       "       [0.70491803, 0.68367347],\n",
       "       [0.72131148, 0.16326531],\n",
       "       [0.72131148, 0.85714286],\n",
       "       [0.72131148, 0.2244898 ],\n",
       "       [0.72131148, 0.69387755],\n",
       "       [0.80327869, 0.07142857],\n",
       "       [0.80327869, 0.91836735],\n",
       "       [0.86065574, 0.15306122],\n",
       "       [0.86065574, 0.79591837],\n",
       "       [0.90983607, 0.2755102 ],\n",
       "       [0.90983607, 0.74489796],\n",
       "       [1.        , 0.17346939],\n",
       "       [1.        , 0.83673469]])"
      ]
     },
     "execution_count": 10,
     "metadata": {},
     "output_type": "execute_result"
    }
   ],
   "source": [
    "X"
   ]
  },
  {
   "cell_type": "code",
   "execution_count": 11,
   "metadata": {},
   "outputs": [
    {
     "data": {
      "text/plain": [
       "<matplotlib.collections.PathCollection at 0x1fe4fc897f0>"
      ]
     },
     "execution_count": 11,
     "metadata": {},
     "output_type": "execute_result"
    },
    {
     "data": {
      "image/png": "[encoded data removed]",
      "text/plain": [
       "<Figure size 432x288 with 1 Axes>"
      ]
     },
     "metadata": {
      "needs_background": "light"
     },
     "output_type": "display_data"
    }
   ],
   "source": [
    "plt.scatter(dataset['Annual Income (k$)'],dataset['Spending Score (1-100)'])"
   ]
  },
  {
   "cell_type": "code",
   "execution_count": 12,
   "metadata": {},
   "outputs": [
    {
     "name": "stderr",
     "output_type": "stream",
     "text": [
      "C:\\Users\\91773\\anaconda3\\lib\\site-packages\\sklearn\\cluster\\_kmeans.py:1036: UserWarning: KMeans is known to have a memory leak on Windows with MKL, when there are less chunks than available threads. You can avoid it by setting the environment variable OMP_NUM_THREADS=1.\n",
      "  warnings.warn(\n"
     ]
    }
   ],
   "source": [
    "## Elbow Method\n",
    "\n",
    "from sklearn.cluster import KMeans\n",
    "# Within Cluster Sum of Squares = wcss\n",
    "wcss=[]\n",
    "for i in range(1,21):\n",
    "    kmeans = KMeans(n_clusters = i)\n",
    "    kmeans.fit(X)\n",
    "    wcss.append(kmeans.inertia_)"
   ]
  },
  {
   "cell_type": "code",
   "execution_count": 13,
   "metadata": {},
   "outputs": [
    {
     "data": {
      "image/png": "[encoded data removed]",
      "text/plain": [
       "<Figure size 432x288 with 1 Axes>"
      ]
     },
     "metadata": {
      "needs_background": "light"
     },
     "output_type": "display_data"
    }
   ],
   "source": [
    "k_range = range(1, 21)\n",
    "plt.plot(k_range, wcss)\n",
    "plt.title('Elbow Method')\n",
    "plt.xlabel('k_range')\n",
    "plt.ylabel('wcss')\n",
    "plt.show()"
   ]
  },
  {
   "cell_type": "code",
   "execution_count": 14,
   "metadata": {},
   "outputs": [
    {
     "data": {
      "text/plain": [
       "KMeans(n_clusters=5)"
      ]
     },
     "execution_count": 14,
     "metadata": {},
     "output_type": "execute_result"
    }
   ],
   "source": [
    "k_mean = KMeans(n_clusters = 5)\n",
    "k_mean"
   ]
  },
  {
   "cell_type": "code",
   "execution_count": 15,
   "metadata": {},
   "outputs": [],
   "source": [
    "Label_or_predicted = k_mean.fit_predict(X)"
   ]
  },
  {
   "cell_type": "code",
   "execution_count": 16,
   "metadata": {
    "scrolled": true
   },
   "outputs": [
    {
     "data": {
      "text/plain": [
       "array([0, 3, 0, 3, 0, 3, 0, 3, 0, 3, 0, 3, 0, 3, 0, 3, 0, 3, 0, 3, 0, 3,\n",
       "       0, 3, 0, 3, 0, 3, 0, 3, 0, 3, 0, 3, 0, 3, 0, 3, 0, 3, 0, 3, 0, 4,\n",
       "       0, 3, 4, 4, 4, 4, 4, 4, 4, 4, 4, 4, 4, 4, 4, 4, 4, 4, 4, 4, 4, 4,\n",
       "       4, 4, 4, 4, 4, 4, 4, 4, 4, 4, 4, 4, 4, 4, 4, 4, 4, 4, 4, 4, 4, 4,\n",
       "       4, 4, 4, 4, 4, 4, 4, 4, 4, 4, 4, 4, 4, 4, 4, 4, 4, 4, 4, 4, 4, 4,\n",
       "       4, 4, 4, 4, 4, 4, 4, 4, 4, 4, 4, 4, 4, 1, 2, 1, 4, 1, 2, 1, 2, 1,\n",
       "       4, 1, 2, 1, 2, 1, 2, 1, 2, 1, 4, 1, 2, 1, 2, 1, 2, 1, 2, 1, 2, 1,\n",
       "       2, 1, 2, 1, 2, 1, 2, 1, 2, 1, 2, 1, 2, 1, 2, 1, 2, 1, 2, 1, 2, 1,\n",
       "       2, 1, 2, 1, 2, 1, 2, 1, 2, 1, 2, 1, 2, 1, 2, 1, 2, 1, 2, 1, 2, 1,\n",
       "       2, 1])"
      ]
     },
     "execution_count": 16,
     "metadata": {},
     "output_type": "execute_result"
    }
   ],
   "source": [
    "Label_or_predicted"
   ]
  },
  {
   "cell_type": "code",
   "execution_count": 17,
   "metadata": {},
   "outputs": [],
   "source": [
    "dataset['cluster'] = Label_or_predicted"
   ]
  },
  {
   "cell_type": "code",
   "execution_count": 18,
   "metadata": {},
   "outputs": [
    {
     "data": {
      "text/html": [
       "<div>\n",
       "<style scoped>\n",
       "    .dataframe tbody tr th:only-of-type {\n",
       "        vertical-align: middle;\n",
       "    }\n",
       "\n",
       "    .dataframe tbody tr th {\n",
       "        vertical-align: top;\n",
       "    }\n",
       "\n",
       "    .dataframe thead th {\n",
       "        text-align: right;\n",
       "    }\n",
       "</style>\n",
       "<table border=\"1\" class=\"dataframe\">\n",
       "  <thead>\n",
       "    <tr style=\"text-align: right;\">\n",
       "      <th></th>\n",
       "      <th>CustomerID</th>\n",
       "      <th>Genre</th>\n",
       "      <th>Age</th>\n",
       "      <th>Annual Income (k$)</th>\n",
       "      <th>Spending Score (1-100)</th>\n",
       "      <th>cluster</th>\n",
       "    </tr>\n",
       "  </thead>\n",
       "  <tbody>\n",
       "    <tr>\n",
       "      <th>0</th>\n",
       "      <td>1</td>\n",
       "      <td>Male</td>\n",
       "      <td>19</td>\n",
       "      <td>0.000000</td>\n",
       "      <td>0.387755</td>\n",
       "      <td>0</td>\n",
       "    </tr>\n",
       "    <tr>\n",
       "      <th>1</th>\n",
       "      <td>2</td>\n",
       "      <td>Male</td>\n",
       "      <td>21</td>\n",
       "      <td>0.000000</td>\n",
       "      <td>0.816327</td>\n",
       "      <td>3</td>\n",
       "    </tr>\n",
       "    <tr>\n",
       "      <th>2</th>\n",
       "      <td>3</td>\n",
       "      <td>Female</td>\n",
       "      <td>20</td>\n",
       "      <td>0.008197</td>\n",
       "      <td>0.051020</td>\n",
       "      <td>0</td>\n",
       "    </tr>\n",
       "    <tr>\n",
       "      <th>3</th>\n",
       "      <td>4</td>\n",
       "      <td>Female</td>\n",
       "      <td>23</td>\n",
       "      <td>0.008197</td>\n",
       "      <td>0.775510</td>\n",
       "      <td>3</td>\n",
       "    </tr>\n",
       "    <tr>\n",
       "      <th>4</th>\n",
       "      <td>5</td>\n",
       "      <td>Female</td>\n",
       "      <td>31</td>\n",
       "      <td>0.016393</td>\n",
       "      <td>0.397959</td>\n",
       "      <td>0</td>\n",
       "    </tr>\n",
       "    <tr>\n",
       "      <th>5</th>\n",
       "      <td>6</td>\n",
       "      <td>Female</td>\n",
       "      <td>22</td>\n",
       "      <td>0.016393</td>\n",
       "      <td>0.765306</td>\n",
       "      <td>3</td>\n",
       "    </tr>\n",
       "    <tr>\n",
       "      <th>6</th>\n",
       "      <td>7</td>\n",
       "      <td>Female</td>\n",
       "      <td>35</td>\n",
       "      <td>0.024590</td>\n",
       "      <td>0.051020</td>\n",
       "      <td>0</td>\n",
       "    </tr>\n",
       "    <tr>\n",
       "      <th>7</th>\n",
       "      <td>8</td>\n",
       "      <td>Female</td>\n",
       "      <td>23</td>\n",
       "      <td>0.024590</td>\n",
       "      <td>0.948980</td>\n",
       "      <td>3</td>\n",
       "    </tr>\n",
       "    <tr>\n",
       "      <th>8</th>\n",
       "      <td>9</td>\n",
       "      <td>Male</td>\n",
       "      <td>64</td>\n",
       "      <td>0.032787</td>\n",
       "      <td>0.020408</td>\n",
       "      <td>0</td>\n",
       "    </tr>\n",
       "    <tr>\n",
       "      <th>9</th>\n",
       "      <td>10</td>\n",
       "      <td>Female</td>\n",
       "      <td>30</td>\n",
       "      <td>0.032787</td>\n",
       "      <td>0.724490</td>\n",
       "      <td>3</td>\n",
       "    </tr>\n",
       "  </tbody>\n",
       "</table>\n",
       "</div>"
      ],
      "text/plain": [
       "   CustomerID   Genre  Age  Annual Income (k$)  Spending Score (1-100)  \\\n",
       "0           1    Male   19            0.000000                0.387755   \n",
       "1           2    Male   21            0.000000                0.816327   \n",
       "2           3  Female   20            0.008197                0.051020   \n",
       "3           4  Female   23            0.008197                0.775510   \n",
       "4           5  Female   31            0.016393                0.397959   \n",
       "5           6  Female   22            0.016393                0.765306   \n",
       "6           7  Female   35            0.024590                0.051020   \n",
       "7           8  Female   23            0.024590                0.948980   \n",
       "8           9    Male   64            0.032787                0.020408   \n",
       "9          10  Female   30            0.032787                0.724490   \n",
       "\n",
       "   cluster  \n",
       "0        0  \n",
       "1        3  \n",
       "2        0  \n",
       "3        3  \n",
       "4        0  \n",
       "5        3  \n",
       "6        0  \n",
       "7        3  \n",
       "8        0  \n",
       "9        3  "
      ]
     },
     "execution_count": 18,
     "metadata": {},
     "output_type": "execute_result"
    }
   ],
   "source": [
    "dataset.head(10)"
   ]
  },
  {
   "cell_type": "code",
   "execution_count": 19,
   "metadata": {},
   "outputs": [],
   "source": [
    "d_1 = dataset[dataset.cluster == 0]\n",
    "d_2 = dataset[dataset.cluster == 1]\n",
    "d_3 = dataset[dataset.cluster == 2]\n",
    "d_4 = dataset[dataset.cluster == 3]\n",
    "d_5 = dataset[dataset.cluster == 4]"
   ]
  },
  {
   "cell_type": "code",
   "execution_count": 20,
   "metadata": {},
   "outputs": [
    {
     "data": {
      "image/png": "[encoded data removed]",
      "text/plain": [
       "<Figure size 504x360 with 1 Axes>"
      ]
     },
     "metadata": {
      "needs_background": "light"
     },
     "output_type": "display_data"
    }
   ],
   "source": [
    "plt.figure(figsize = (7, 5))\n",
    "plt.scatter(d_1['Annual Income (k$)'], d_1['Spending Score (1-100)'], c = 'black', s = 100, label = 'cluster1')\n",
    "plt.scatter(d_2['Annual Income (k$)'], d_2['Spending Score (1-100)'], c = 'blue', s = 100, label = 'cluster2')\n",
    "plt.scatter(d_3['Annual Income (k$)'], d_3['Spending Score (1-100)'], c = 'skyblue', s = 100, label = 'cluster3')\n",
    "plt.scatter(d_4['Annual Income (k$)'], d_4['Spending Score (1-100)'], c = 'pink', s = 100, label = 'cluster4')\n",
    "plt.scatter(d_5['Annual Income (k$)'], d_5['Spending Score (1-100)'], c = 'red', s = 100, label = 'cluster5')\n",
    "\n",
    "plt.xlabel('Annual Income (k$)')\n",
    "plt.ylabel('Spending Score (1-100)')\n",
    "plt.legend()\n",
    "plt.show()"
   ]
  },
  {
   "cell_type": "code",
   "execution_count": 21,
   "metadata": {
    "scrolled": true
   },
   "outputs": [
    {
     "data": {
      "text/plain": [
       "array([[0.09265859, 0.20319432],\n",
       "       [0.58638083, 0.82783883],\n",
       "       [0.6       , 0.16443149],\n",
       "       [0.08792846, 0.79962894],\n",
       "       [0.33029751, 0.49508692]])"
      ]
     },
     "execution_count": 21,
     "metadata": {},
     "output_type": "execute_result"
    }
   ],
   "source": [
    "k_mean.cluster_centers_"
   ]
  },
  {
   "cell_type": "code",
   "execution_count": 22,
   "metadata": {},
   "outputs": [
    {
     "data": {
      "text/plain": [
       "0.20319432120674352"
      ]
     },
     "execution_count": 22,
     "metadata": {},
     "output_type": "execute_result"
    }
   ],
   "source": [
    "k_mean.cluster_centers_[0][1]"
   ]
  },
  {
   "cell_type": "code",
   "execution_count": 23,
   "metadata": {},
   "outputs": [
    {
     "name": "stdout",
     "output_type": "stream",
     "text": [
      "Co-ordinates of Cluseter i :     x           y \n",
      "\n",
      "Co-ordinates of Cluseter 0 : [0.09265859 0.20319432] \n",
      "Co-ordinates of Cluseter 1 : [0.58638083 0.82783883] \n",
      "Co-ordinates of Cluseter 2 : [0.6        0.16443149] \n",
      "Co-ordinates of Cluseter 3 : [0.08792846 0.79962894] \n",
      "Co-ordinates of Cluseter 4 : [0.33029751 0.49508692] \n"
     ]
    }
   ],
   "source": [
    "print(f\"Co-ordinates of Cluseter i :     x           y \\n\")\n",
    "for i in range(len(k_mean.cluster_centers_)):\n",
    "    print(f\"Co-ordinates of Cluseter {i} : {k_mean.cluster_centers_[i]} \")\n",
    " "
   ]
  },
  {
   "cell_type": "code",
   "execution_count": 24,
   "metadata": {},
   "outputs": [
    {
     "data": {
      "image/png": "[encoded data removed]",
      "text/plain": [
       "<Figure size 504x360 with 1 Axes>"
      ]
     },
     "metadata": {
      "needs_background": "light"
     },
     "output_type": "display_data"
    }
   ],
   "source": [
    "plt.figure(figsize = (7, 5))\n",
    "plt.scatter(d_1['Annual Income (k$)'], d_1['Spending Score (1-100)'], c = 'black', s = 100, label = 'cluster1')\n",
    "plt.scatter(d_2['Annual Income (k$)'], d_2['Spending Score (1-100)'], c = 'lightblue', s = 100, label = 'cluster2')\n",
    "plt.scatter(d_3['Annual Income (k$)'], d_3['Spending Score (1-100)'], c = 'green', s = 100, label = 'cluster3')\n",
    "plt.scatter(d_4['Annual Income (k$)'], d_4['Spending Score (1-100)'], c = 'pink', s = 100, label = 'cluster4')\n",
    "plt.scatter(d_5['Annual Income (k$)'], d_5['Spending Score (1-100)'], c = 'red', s = 100, label = 'cluster5')\n",
    "\n",
    "plt.scatter(k_mean.cluster_centers_[:,0], k_mean.cluster_centers_[:,1], c = 'purple', s = 200, label = 'centroid')\n",
    "\n",
    "plt.xlabel('Annual Income (k$)')\n",
    "plt.ylabel('Spending Score (1-100)')\n",
    "plt.legend()\n",
    "plt.show()"
   ]
  }
 ],
 "metadata": {
  "kernelspec": {
   "display_name": "Python 3 (ipykernel)",
   "language": "python",
   "name": "python3"
  },
  "language_info": {
   "codemirror_mode": {
    "name": "ipython",
    "version": 3
   },
   "file_extension": ".py",
   "mimetype": "text/x-python",
   "name": "python",
   "nbconvert_exporter": "python",
   "pygments_lexer": "ipython3",
   "version": "3.9.7"
  }
 },
 "nbformat": 4,
 "nbformat_minor": 4
}
